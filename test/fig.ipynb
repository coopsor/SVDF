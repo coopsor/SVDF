{
 "cells": [
  {
   "cell_type": "code",
   "outputs": [],
   "source": [
    "import vcf\n",
    "\n",
    "vcf_reader = vcf.Reader(open(\"/home/user/code/SVdetect/svim/tools/svim/ont_12-24.vcf\", 'r'))\n",
    "vcf_writer = vcf.Writer(open('/home/user/code/SVdetect/svim/tools/svim/variants_filtered.vcf', 'w'), vcf_reader)\n",
    "for record in vcf_reader:\n",
    "    rec_support = record.INFO.get('SUPPORT')\n",
    "    if int(rec_support) >= 10:\n",
    "        vcf_writer.write_record(record)"
   ],
   "metadata": {
    "collapsed": false,
    "ExecuteTime": {
     "end_time": "2024-01-22T07:52:02.603911600Z",
     "start_time": "2024-01-22T07:51:53.538748500Z"
    }
   },
   "id": "ef06aae76f82fce",
   "execution_count": 21
  },
  {
   "cell_type": "code",
   "source": [
    "import csv\n",
    "import os\n",
    "import re\n",
    "import subprocess\n",
    "\n",
    "vcf_list = ['/home/user/code/SVDF/ont/ont.vcf' ]\n",
    "for vcf in vcf_list:\n",
    "    header, sv_list_1, sv_list_2, sv_list_3, sv_list_4, sv_list_5, sv_list_6, sv_list_7,  sv_list_8  = [], [], [], [], [], [], [], [], []\n",
    "    ins_1, ins_2, ins_3, ins_4, ins_5, ins_6, ins_7,  ins_8  = 0, 0, 0, 0, 0, 0, 0, 0\n",
    "    del_1, del_2, del_3, del_4, del_5, del_6, del_7,  del_8  = 0, 0, 0, 0, 0, 0, 0, 0\n",
    "    with open(vcf, 'r') as f:\n",
    "        for line in f:\n",
    "            if line.startswith('#'):\n",
    "                header.append(line)\n",
    "                continue\n",
    "            rec = line.split('\\t')\n",
    "            chr, svstart = rec[0], int(rec[1])\n",
    "            svtype = re.search(r'SVTYPE=([^;]+)', rec[7]).group(1)\n",
    "            if svtype == 'DEL' or svtype == 'INS':\n",
    "                matches = re.search(r'SVLEN=([^;]+)', rec[7])\n",
    "                svlen = abs(int(matches.group(1)))\n",
    "            else:\n",
    "                continue\n",
    "            if 50<=svlen<100:\n",
    "                sv_list_1.append(line)\n",
    "                if svtype == 'DEL':\n",
    "                    del_1+=1 \n",
    "                else:\n",
    "                    ins_1+=1 \n",
    "            elif 100<=svlen<200:\n",
    "                sv_list_2.append(line)\n",
    "                if svtype == 'DEL':\n",
    "                    del_2+=1 \n",
    "                else:\n",
    "                    ins_2+=1 \n",
    "            elif 200<=svlen<500:\n",
    "                sv_list_3.append(line)\n",
    "                if svtype == 'DEL':\n",
    "                    del_3+=1 \n",
    "                else:\n",
    "                    ins_3+=1 \n",
    "            elif 500<=svlen<1000:\n",
    "                sv_list_4.append(line)\n",
    "                if svtype == 'DEL':\n",
    "                    del_4+=1 \n",
    "                else:\n",
    "                    ins_4+=1 \n",
    "            elif 1000<=svlen<2000:\n",
    "                sv_list_5.append(line)\n",
    "                if svtype == 'DEL':\n",
    "                    del_5+=1 \n",
    "                else:\n",
    "                    ins_5+=1 \n",
    "            elif 2000<=svlen<5000:\n",
    "                sv_list_6.append(line)\n",
    "                if svtype == 'DEL':\n",
    "                    del_6+=1 \n",
    "                else:\n",
    "                    ins_6+=1 \n",
    "            elif 5000<=svlen<10000:\n",
    "                sv_list_7.append(line)\n",
    "                if svtype == 'DEL':\n",
    "                    del_7+=1 \n",
    "                else:\n",
    "                    ins_7+=1 \n",
    "            elif 10000<=svlen:\n",
    "                sv_list_8.append(line)\n",
    "                if svtype == 'DEL':\n",
    "                    del_8+=1 \n",
    "                else:\n",
    "                    ins_8+=1 \n",
    "    print(vcf)\n",
    "    print(del_1, del_2, del_3, del_4, del_5, del_6, del_7, del_8)\n",
    "    print(ins_1, ins_2, ins_3, ins_4, ins_5, ins_6, ins_7, ins_8)\n",
    "    sv_len_list,final_out_list, tool_final_out_list = [], [], []\n",
    "    for index, sv_list in enumerate([sv_list_1, sv_list_2, sv_list_3, sv_list_4, sv_list_5, sv_list_6, sv_list_7, sv_list_8]):\n",
    "        with open(\"{0}_{1}.vcf\".format(vcf.split('.')[0], index), 'w') as f:\n",
    "            for line in header:\n",
    "                f.write(line)\n",
    "            for line in sv_list:\n",
    "                f.write(line)\n",
    "        sv_len_list.append(len(sv_list))\n",
    "        # os.system(\"less {0}_{1}_.vcf|grep -v \\'#\\'|sort -k1,1d -k2,2n >body\".format(vcf.split('.')[0], index))\n",
    "        # os.system(\"less {0}_{1}_.vcf|grep \\'^#\\' >header\".format(vcf.split('.')[0], index))\n",
    "        # os.system(\"cat header body >{0}_{1}.vcf\".format(vcf.split('.')[0], index))\n",
    "        os.system(\"/home/user/miniconda3/envs/tf-2/bin/bgzip -f {0}_{1}.vcf\".format(vcf.split('.')[0], index))\n",
    "        os.system(\"/home/user/miniconda3/envs/tf-2/bin/tabix -f {0}_{1}.vcf.gz\".format(vcf.split('.')[0], index))\n",
    "\n",
    "        result = subprocess.run(\n",
    "            \"/home/user/miniconda3/envs/tf-2/bin/truvari  bench  -f /home/user/code/SVdetect/data/hs37d5.fa -b tools/truvari/clr_12-24_{2}.vcf.gz  -o svim_eval --sizemin 50 --sizefilt 50 --passonly  -p 0.00 -c {1}_{2}.vcf.gz   --includebed /home/user/code/SVdetect/data/giab/HG002_SVs_Tier1_v0.6.bed\".format(vcf.split('/')[-1], vcf.split('.')[0], index), shell=True, stdout=subprocess.PIPE, stderr=subprocess.PIPE)\n",
    "        cmd_out = result.stderr.decode()\n",
    "        try:\n",
    "            precision = re.findall(r'\"precision\":\\s+(\\d+\\.\\d+)', cmd_out)[-1]\n",
    "            recall = re.findall(r'\"recall\":\\s+(\\d+\\.\\d+)', cmd_out)[-1]\n",
    "            f1 = re.findall(r'\"f1\":\\s+(\\d+\\.\\d+)', cmd_out)[-1]\n",
    "            final_out = f1\n",
    "            final_out_list.append(final_out)\n",
    "            os.system(\"rm -r svim_eval\")\n",
    "        except:\n",
    "            print(cmd_out)\n",
    "            os.system(\"rm -r svim_eval\")\n",
    "    tool_final_out_list.append(final_out_list)\n",
    "    with open('res.csv',  'a', newline='') as csv_file:\n",
    "        for row in tool_final_out_list:\n",
    "            csv_writer = csv.writer(csv_file)\n",
    "            csv_writer.writerow(row)\n",
    "            "
   ],
   "metadata": {
    "collapsed": true,
    "ExecuteTime": {
     "end_time": "2024-03-13T07:05:55.428593Z",
     "start_time": "2024-03-13T07:05:31.981156Z"
    }
   },
   "id": "initial_id",
   "outputs": [
    {
     "name": "stdout",
     "output_type": "stream",
     "text": [
      "/home/user/code/SVDF/ont/ont.vcf\n",
      "1429 777 824 189 120 103 39 46\n",
      "1291 1063 1458 666 336 217 56 65\n"
     ]
    },
    {
     "name": "stderr",
     "output_type": "stream",
     "text": [
      "[W::tbx_parse1] Coordinate <= 0 detected. Did you forget to use the -0 option?\n",
      "[W::tbx_parse1] Coordinate <= 0 detected. Did you forget to use the -0 option?\n",
      "[W::tbx_parse1] Coordinate <= 0 detected. Did you forget to use the -0 option?\n"
     ]
    }
   ],
   "execution_count": 10
  },
  {
   "cell_type": "code",
   "source": [
    "import numpy as np\n",
    "from scipy.cluster.hierarchy import linkage, fcluster\n",
    "import scipy.cluster.hierarchy as sch\n",
    "import matplotlib.pyplot as plt\n",
    "\n",
    "clu_str = '1207\t999\t1134\t1166\t1197\t1228\t1208\t1194\t1214\t1228\t1207\t1217\t257\t1167\t1148\t1191\t1151\t1209\t74\t944\t1089\t207\t58\t58\t233\t296'\n",
    "clu_list = clu_str.split('\\t')\n",
    "print(np.median([int(i) for i in clu_list]))\n",
    "clu_list = [int(i) for i in clu_list]\n",
    "distance_data = []\n",
    "clusters_final = []\n",
    "for i in range(len(clu_list) - 1):  # 局部深度反映了当前sv在1000bp以内的相似sv的个数\n",
    "    for j in range(i + 1, len(clu_list)):\n",
    "        distance_data.append(\n",
    "            abs(clu_list[i] - clu_list[j])/max(clu_list[i], clu_list[j]))\n",
    "Z = linkage(np.array(distance_data), method=\"average\")\n",
    "cluster_indices = list(fcluster(Z, 0.3, criterion='distance'))\n",
    "new_clusters = [[] for i in range(max(cluster_indices))]\n",
    "for signature_index, cluster_index in enumerate(cluster_indices):\n",
    "    new_clusters[cluster_index - 1].append(clu_list[signature_index])\n",
    "clusters_final.extend(new_clusters)\n",
    "print(clusters_final)\n",
    "plt.figure(figsize=(10,7))\n",
    "\n",
    "sch.dendrogram(Z,leaf_rotation=0)\n",
    "#设置字体new roman\n",
    "# plt.title('Dendrogram of SVs clustering', fontsize=20, fontname='Times New Roman')\n",
    "# plt.xlabel('SV index', fontsize=20, fontname='Times New Roman')\n",
    "# plt.ylabel('Distance', fontsize=20, fontname='Times New Roman')\n",
    "#保存为矢量图格式\n",
    "plt.savefig('dendrogram.eps', format='eps')\n",
    "plt.show()"
   ],
   "metadata": {
    "collapsed": false,
    "ExecuteTime": {
     "end_time": "2024-03-20T05:34:53.575504Z",
     "start_time": "2024-03-20T05:34:50.975386Z"
    }
   },
   "id": "56b672962adecc23",
   "outputs": [
    {
     "name": "stdout",
     "output_type": "stream",
     "text": [
      "1158.5\n",
      "[[1207, 999, 1134, 1166, 1197, 1228, 1208, 1194, 1214, 1228, 1207, 1217, 1167, 1148, 1191, 1151, 1209, 944, 1089], [257, 207, 233, 296], [74, 58, 58]]\n"
     ]
    },
    {
     "data": {
      "text/plain": [
       "<Figure size 1000x700 with 1 Axes>"
      ],
      "image/png": "[encoded data removed]"
     },
     "metadata": {},
     "output_type": "display_data"
    }
   ],
   "execution_count": 3
  }
 ],
 "metadata": {
  "kernelspec": {
   "display_name": "Python 3",
   "language": "python",
   "name": "python3"
  },
  "language_info": {
   "codemirror_mode": {
    "name": "ipython",
    "version": 2
   },
   "file_extension": ".py",
   "mimetype": "text/x-python",
   "name": "python",
   "nbconvert_exporter": "python",
   "pygments_lexer": "ipython2",
   "version": "2.7.6"
  }
 },
 "nbformat": 4,
 "nbformat_minor": 5
}
